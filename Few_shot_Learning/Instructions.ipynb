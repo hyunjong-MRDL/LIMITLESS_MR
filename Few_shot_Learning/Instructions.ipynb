{
 "cells": [
  {
   "cell_type": "code",
   "execution_count": null,
   "id": "c06ebf34",
   "metadata": {},
   "outputs": [],
   "source": [
    "import torch, random, os, time\n",
    "import numpy as np\n",
    "import torch.nn as nn\n",
    "import learn2learn as l2l\n",
    "import torch.nn.functional as F\n",
    "import torchio as tio\n",
    "from torch.utils.data import Dataset, DataLoader, random_split\n",
    "import matplotlib.pyplot as plt\n",
    "\n",
    "device = torch.device('cuda' if torch.cuda.is_available() else 'cpu')\n",
    "print(device)"
   ]
  },
  {
   "cell_type": "code",
   "execution_count": null,
   "id": "bc262534",
   "metadata": {},
   "outputs": [],
   "source": [
    "class SimpleUNet(nn.Module):\n",
    "    def __init__(self, in_channels, out_channels):\n",
    "        super().__init__()\n",
    "        self.enc1 = nn.Conv2d(in_channels, 32, 3, padding=1)\n",
    "        self.enc2 = nn.Conv2d(32, 64, 3, padding=1)\n",
    "        self.dec1 = nn.Conv2d(64, 32, 3, padding=1)\n",
    "        self.out = nn.Conv2d(32, out_channels, 1)\n",
    "    \n",
    "    def forward(self, x):\n",
    "        x1 = F.relu(self.enc1(x))\n",
    "        x2 = F.relu(self.enc2(x1))\n",
    "        x3 = F.relu(self.dec1(x2))\n",
    "        return self.out(x3)\n",
    "\n",
    "def signal_model(I0, T2, TE):\n",
    "    return I0 * torch.exp(-TE.view(1, -1, 1, 1) / (T2 + 1e-6))\n",
    "\n",
    "def relax_loss(pred_maps, kspace_ref, mask, TE):\n",
    "    I0, T2 = pred_maps[:, 0:1], pred_maps[:, 1:2]\n",
    "    signal = signal_model(I0, T2, TE)\n",
    "\n",
    "    signal_k = torch.fft.fft2(signal, norm='ortho')\n",
    "    signal_k_masked = signal_k * mask\n",
    "\n",
    "    return F.mse_loss(signal_k_masked.real, kspace_ref.real) + \\\n",
    "           F.mse_loss(signal_k_masked.imag, kspace_ref.imag)\n",
    "\n",
    "def meta_train_step(model, maml, tasks, TE):\n",
    "    meta_loss = 0.0\n",
    "    for support_x, support_k, query_x, query_k, mask in tasks:\n",
    "        learner = maml.clone()\n",
    "        pred_support = learner(support_x)\n",
    "        loss_support = relax_loss(pred_support, support_k, mask, TE)\n",
    "        learner.adapt(loss_support)\n",
    "\n",
    "        pred_query = learner(query_x)\n",
    "        loss_query = relax_loss(pred_query, query_k, mask, TE)\n",
    "        meta_loss += loss_query\n",
    "    meta_loss /= len(tasks)\n",
    "    return meta_loss"
   ]
  },
  {
   "cell_type": "code",
   "execution_count": null,
   "id": "ced46ad6",
   "metadata": {},
   "outputs": [],
   "source": []
  }
 ],
 "metadata": {
  "language_info": {
   "name": "python"
  }
 },
 "nbformat": 4,
 "nbformat_minor": 5
}
